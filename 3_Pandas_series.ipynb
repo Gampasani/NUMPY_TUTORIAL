{
  "nbformat": 4,
  "nbformat_minor": 0,
  "metadata": {
    "colab": {
      "provenance": []
    },
    "kernelspec": {
      "name": "python3",
      "display_name": "Python 3"
    },
    "language_info": {
      "name": "python"
    }
  },
  "cells": [
    {
      "cell_type": "markdown",
      "source": [
        "#Pandas\n",
        "\n",
        "Pandas is a powerful library in python used for data manipulation and it provides data structures like Series and DataFrame, which plays crucial role in structured data.\n",
        "\n",
        "To use pandas you need to install it using pip(pip install pandas) Statement used to install pandas library. later, we need to import pandas by using import statement."
      ],
      "metadata": {
        "id": "viC_ppoGKK9R"
      }
    },
    {
      "cell_type": "code",
      "execution_count": 3,
      "metadata": {
        "colab": {
          "base_uri": "https://localhost:8080/"
        },
        "id": "u-qzJGaKJG4h",
        "outputId": "19eecea7-07f2-4444-bcc5-cf6aa81d63cb"
      },
      "outputs": [
        {
          "output_type": "stream",
          "name": "stdout",
          "text": [
            "Requirement already satisfied: pandas in /usr/local/lib/python3.10/dist-packages (2.1.4)\n",
            "Requirement already satisfied: numpy<2,>=1.22.4 in /usr/local/lib/python3.10/dist-packages (from pandas) (1.26.4)\n",
            "Requirement already satisfied: python-dateutil>=2.8.2 in /usr/local/lib/python3.10/dist-packages (from pandas) (2.8.2)\n",
            "Requirement already satisfied: pytz>=2020.1 in /usr/local/lib/python3.10/dist-packages (from pandas) (2024.1)\n",
            "Requirement already satisfied: tzdata>=2022.1 in /usr/local/lib/python3.10/dist-packages (from pandas) (2024.1)\n",
            "Requirement already satisfied: six>=1.5 in /usr/local/lib/python3.10/dist-packages (from python-dateutil>=2.8.2->pandas) (1.16.0)\n"
          ]
        }
      ],
      "source": [
        "pip install pandas"
      ]
    },
    {
      "cell_type": "code",
      "source": [
        "import pandas as pd"
      ],
      "metadata": {
        "id": "GwvvwpI4OUxI"
      },
      "execution_count": 4,
      "outputs": []
    },
    {
      "cell_type": "markdown",
      "source": [
        "**Series**\n",
        "\n",
        "Panads series is one of the fundamental data structure in pandas. It is a one dimensional labeled array which stores values. where each value in series is associated with an index which makes data retrieval and manipulation easy."
      ],
      "metadata": {
        "id": "Dd0z8qAqOZWF"
      }
    },
    {
      "cell_type": "markdown",
      "source": [
        "**Creating a series**:\n",
        "\n",
        "You can create a series in several ways(using list, tuple, dictionary). but while creating a series using set data structure you need to convert it into list or tuple because Sets are unordered collections, so when converted to a Series, the order of elements is not guaranteed. Pandas relies on order when it creates a Series because each element is associated with an index."
      ],
      "metadata": {
        "id": "bo06D2W1SmCn"
      }
    },
    {
      "cell_type": "code",
      "source": [
        "list_series=pd.Series([1,2,3,4,5]) #series by list elements\n",
        "dict_series=pd.Series({'a':1,'b':2,'c':3}) #here, index is keys\n",
        "tuple_series=pd.Series((1,2,3,4,5)) #series by tuple elements"
      ],
      "metadata": {
        "id": "wT9x6pQGQDqY"
      },
      "execution_count": 5,
      "outputs": []
    },
    {
      "cell_type": "code",
      "source": [
        "print(list_series)"
      ],
      "metadata": {
        "colab": {
          "base_uri": "https://localhost:8080/"
        },
        "id": "WcwPEX4NVTuA",
        "outputId": "6e14b205-3218-4d57-d02c-b79531ad64fb"
      },
      "execution_count": 10,
      "outputs": [
        {
          "output_type": "stream",
          "name": "stdout",
          "text": [
            "0    1\n",
            "1    2\n",
            "2    3\n",
            "3    4\n",
            "4    5\n",
            "dtype: int64\n"
          ]
        }
      ]
    },
    {
      "cell_type": "code",
      "source": [
        "print(dict_series)"
      ],
      "metadata": {
        "colab": {
          "base_uri": "https://localhost:8080/"
        },
        "id": "QO-n7LHyVd2X",
        "outputId": "b5f6316f-5796-4d9f-a59c-ed3528019e88"
      },
      "execution_count": 6,
      "outputs": [
        {
          "output_type": "stream",
          "name": "stdout",
          "text": [
            "a    1\n",
            "b    2\n",
            "c    3\n",
            "dtype: int64\n"
          ]
        }
      ]
    },
    {
      "cell_type": "code",
      "source": [
        "print(tuple_series)"
      ],
      "metadata": {
        "colab": {
          "base_uri": "https://localhost:8080/"
        },
        "id": "MUrVR3qwViHy",
        "outputId": "6f131af6-d3f4-40bb-c041-51abd03aee64"
      },
      "execution_count": 7,
      "outputs": [
        {
          "output_type": "stream",
          "name": "stdout",
          "text": [
            "0    1\n",
            "1    2\n",
            "2    3\n",
            "3    4\n",
            "4    5\n",
            "dtype: int64\n"
          ]
        }
      ]
    },
    {
      "cell_type": "code",
      "source": [
        "# we can also create series using scalar value also\n",
        "scalar_series=pd.Series(5,index=[1,2,3,4,5])"
      ],
      "metadata": {
        "id": "79yCTwAUVz23"
      },
      "execution_count": 8,
      "outputs": []
    },
    {
      "cell_type": "code",
      "source": [
        "print(scalar_series)"
      ],
      "metadata": {
        "colab": {
          "base_uri": "https://localhost:8080/"
        },
        "id": "UWAc_0EhVz-L",
        "outputId": "783fece7-6566-4585-bf69-d977ad7562ce"
      },
      "execution_count": 9,
      "outputs": [
        {
          "output_type": "stream",
          "name": "stdout",
          "text": [
            "1    5\n",
            "2    5\n",
            "3    5\n",
            "4    5\n",
            "5    5\n",
            "dtype: int64\n"
          ]
        }
      ]
    },
    {
      "cell_type": "code",
      "source": [
        "#series using set\n",
        "s={1,2,3,4,5}\n",
        "l=tuple(s)\n",
        "set_series=pd.Series(l)"
      ],
      "metadata": {
        "id": "MEemxGy3WNiK"
      },
      "execution_count": 10,
      "outputs": []
    },
    {
      "cell_type": "code",
      "source": [
        "print(set_series)"
      ],
      "metadata": {
        "colab": {
          "base_uri": "https://localhost:8080/"
        },
        "id": "OeIau4P3XWZ3",
        "outputId": "013e765a-a898-4a1b-b6cb-397d8630357b"
      },
      "execution_count": 11,
      "outputs": [
        {
          "output_type": "stream",
          "name": "stdout",
          "text": [
            "0    1\n",
            "1    2\n",
            "2    3\n",
            "3    4\n",
            "4    5\n",
            "dtype: int64\n"
          ]
        }
      ]
    },
    {
      "cell_type": "markdown",
      "source": [
        "**Attributes**\n",
        " Pandas series has several attributes which provides information about series like data type, index, name, size, values etc.."
      ],
      "metadata": {
        "id": "sulSs9jeVwxT"
      }
    },
    {
      "cell_type": "code",
      "source": [
        "print(list_series.dtype)\n",
        "print(list_series.size)\n",
        "print(list_series.index)\n",
        "print(list_series.name)"
      ],
      "metadata": {
        "colab": {
          "base_uri": "https://localhost:8080/"
        },
        "id": "kFedxoPiaclu",
        "outputId": "b75cafc6-ebd8-4e81-bcb6-e0f3973b03b2"
      },
      "execution_count": 12,
      "outputs": [
        {
          "output_type": "stream",
          "name": "stdout",
          "text": [
            "int64\n",
            "5\n",
            "RangeIndex(start=0, stop=5, step=1)\n",
            "None\n"
          ]
        }
      ]
    },
    {
      "cell_type": "markdown",
      "source": [
        "*Accessing data:* data in series can be accessed using index label, index position and slicing."
      ],
      "metadata": {
        "id": "AcnA439HbHsc"
      }
    },
    {
      "cell_type": "code",
      "source": [
        "print(list_series[0])\n",
        "series1=pd.Series({'a':1,'b':2,'c':3})\n",
        "print(series1['b'])\n",
        "print(list_series[1:4])"
      ],
      "metadata": {
        "colab": {
          "base_uri": "https://localhost:8080/"
        },
        "id": "gMj0oEO6cUpB",
        "outputId": "9039159e-e743-4f1a-c45b-94896394d9ff"
      },
      "execution_count": 13,
      "outputs": [
        {
          "output_type": "stream",
          "name": "stdout",
          "text": [
            "1\n",
            "2\n",
            "1    2\n",
            "2    3\n",
            "3    4\n",
            "dtype: int64\n"
          ]
        }
      ]
    },
    {
      "cell_type": "markdown",
      "source": [
        "**Vectorized operations**\n",
        "\n",
        "Pandas series support vectorized computations which means you can directly perform arithmetic operations on series."
      ],
      "metadata": {
        "id": "ihTWuP-vMZ4R"
      }
    },
    {
      "cell_type": "code",
      "source": [
        "print(list_series+tuple_series)"
      ],
      "metadata": {
        "colab": {
          "base_uri": "https://localhost:8080/"
        },
        "id": "eTyZIa6_NATj",
        "outputId": "ea70eaa6-6d9e-41c8-cac3-a66c31793a05"
      },
      "execution_count": 14,
      "outputs": [
        {
          "output_type": "stream",
          "name": "stdout",
          "text": [
            "0     2\n",
            "1     4\n",
            "2     6\n",
            "3     8\n",
            "4    10\n",
            "dtype: int64\n"
          ]
        }
      ]
    },
    {
      "cell_type": "markdown",
      "source": [
        "**Applying functions**\n",
        "\n",
        "You can apply custom functions on series using apply() function"
      ],
      "metadata": {
        "id": "1pGsmoU9OiP1"
      }
    },
    {
      "cell_type": "code",
      "source": [
        "a=list_series.apply(lambda x:x**x)\n",
        "print(a)"
      ],
      "metadata": {
        "colab": {
          "base_uri": "https://localhost:8080/"
        },
        "id": "Dr1iKdYkO_Vk",
        "outputId": "bf971458-3d8e-4fea-82d0-7240871be5fc"
      },
      "execution_count": 25,
      "outputs": [
        {
          "output_type": "stream",
          "name": "stdout",
          "text": [
            "0       1\n",
            "1       4\n",
            "2      27\n",
            "3     256\n",
            "4    3125\n",
            "dtype: int64\n"
          ]
        }
      ]
    },
    {
      "cell_type": "markdown",
      "source": [
        "you can also pass different custom functions in apply, but you need to define before use."
      ],
      "metadata": {
        "id": "Fjh7HI4QRitx"
      }
    },
    {
      "cell_type": "markdown",
      "source": [
        "**Handling Missing Data**\n",
        "\n",
        "Pandas series supports built in functions to handle with NULL values.\n",
        "\n",
        "*   isnull(): Returns True if there exits null value.\n",
        "*   fillna(value): Fills value in NULL item.\n",
        "*   dropna(): Removes the NULL value."
      ],
      "metadata": {
        "id": "nAX7e0gDST6D"
      }
    },
    {
      "cell_type": "code",
      "source": [
        "import numpy as np\n",
        "null_series=pd.Series([1,np.nan,2,np.nan])"
      ],
      "metadata": {
        "id": "v-tPJkWwPaNO"
      },
      "execution_count": 28,
      "outputs": []
    },
    {
      "cell_type": "code",
      "source": [
        "null_series.isnull()"
      ],
      "metadata": {
        "colab": {
          "base_uri": "https://localhost:8080/",
          "height": 209
        },
        "id": "-we3IMzFTz_a",
        "outputId": "929ca2cf-b291-47a8-ba18-eae39b68ea79"
      },
      "execution_count": 29,
      "outputs": [
        {
          "output_type": "execute_result",
          "data": {
            "text/plain": [
              "0    False\n",
              "1     True\n",
              "2    False\n",
              "3     True\n",
              "dtype: bool"
            ],
            "text/html": [
              "<div>\n",
              "<style scoped>\n",
              "    .dataframe tbody tr th:only-of-type {\n",
              "        vertical-align: middle;\n",
              "    }\n",
              "\n",
              "    .dataframe tbody tr th {\n",
              "        vertical-align: top;\n",
              "    }\n",
              "\n",
              "    .dataframe thead th {\n",
              "        text-align: right;\n",
              "    }\n",
              "</style>\n",
              "<table border=\"1\" class=\"dataframe\">\n",
              "  <thead>\n",
              "    <tr style=\"text-align: right;\">\n",
              "      <th></th>\n",
              "      <th>0</th>\n",
              "    </tr>\n",
              "  </thead>\n",
              "  <tbody>\n",
              "    <tr>\n",
              "      <th>0</th>\n",
              "      <td>False</td>\n",
              "    </tr>\n",
              "    <tr>\n",
              "      <th>1</th>\n",
              "      <td>True</td>\n",
              "    </tr>\n",
              "    <tr>\n",
              "      <th>2</th>\n",
              "      <td>False</td>\n",
              "    </tr>\n",
              "    <tr>\n",
              "      <th>3</th>\n",
              "      <td>True</td>\n",
              "    </tr>\n",
              "  </tbody>\n",
              "</table>\n",
              "</div><br><label><b>dtype:</b> bool</label>"
            ]
          },
          "metadata": {},
          "execution_count": 29
        }
      ]
    },
    {
      "cell_type": "code",
      "source": [
        "null_series.fillna(null_series.mean())"
      ],
      "metadata": {
        "colab": {
          "base_uri": "https://localhost:8080/",
          "height": 209
        },
        "id": "y7S0bKE4UBYu",
        "outputId": "0cad8069-c4db-488e-9a9d-6c6a28cc215c"
      },
      "execution_count": 33,
      "outputs": [
        {
          "output_type": "execute_result",
          "data": {
            "text/plain": [
              "0    1.0\n",
              "1    1.5\n",
              "2    2.0\n",
              "3    1.5\n",
              "dtype: float64"
            ],
            "text/html": [
              "<div>\n",
              "<style scoped>\n",
              "    .dataframe tbody tr th:only-of-type {\n",
              "        vertical-align: middle;\n",
              "    }\n",
              "\n",
              "    .dataframe tbody tr th {\n",
              "        vertical-align: top;\n",
              "    }\n",
              "\n",
              "    .dataframe thead th {\n",
              "        text-align: right;\n",
              "    }\n",
              "</style>\n",
              "<table border=\"1\" class=\"dataframe\">\n",
              "  <thead>\n",
              "    <tr style=\"text-align: right;\">\n",
              "      <th></th>\n",
              "      <th>0</th>\n",
              "    </tr>\n",
              "  </thead>\n",
              "  <tbody>\n",
              "    <tr>\n",
              "      <th>0</th>\n",
              "      <td>1.0</td>\n",
              "    </tr>\n",
              "    <tr>\n",
              "      <th>1</th>\n",
              "      <td>1.5</td>\n",
              "    </tr>\n",
              "    <tr>\n",
              "      <th>2</th>\n",
              "      <td>2.0</td>\n",
              "    </tr>\n",
              "    <tr>\n",
              "      <th>3</th>\n",
              "      <td>1.5</td>\n",
              "    </tr>\n",
              "  </tbody>\n",
              "</table>\n",
              "</div><br><label><b>dtype:</b> float64</label>"
            ]
          },
          "metadata": {},
          "execution_count": 33
        }
      ]
    },
    {
      "cell_type": "markdown",
      "source": [
        "You can also replace values with max, min, scalar value  etc.."
      ],
      "metadata": {
        "id": "qTMpIHuuULOs"
      }
    },
    {
      "cell_type": "code",
      "source": [
        "null_series.dropna()"
      ],
      "metadata": {
        "colab": {
          "base_uri": "https://localhost:8080/",
          "height": 146
        },
        "id": "sZHCJ85cUe2n",
        "outputId": "4dda6466-c6a1-4b2d-f798-0d66d44844d7"
      },
      "execution_count": 31,
      "outputs": [
        {
          "output_type": "execute_result",
          "data": {
            "text/plain": [
              "0    1.0\n",
              "2    2.0\n",
              "dtype: float64"
            ],
            "text/html": [
              "<div>\n",
              "<style scoped>\n",
              "    .dataframe tbody tr th:only-of-type {\n",
              "        vertical-align: middle;\n",
              "    }\n",
              "\n",
              "    .dataframe tbody tr th {\n",
              "        vertical-align: top;\n",
              "    }\n",
              "\n",
              "    .dataframe thead th {\n",
              "        text-align: right;\n",
              "    }\n",
              "</style>\n",
              "<table border=\"1\" class=\"dataframe\">\n",
              "  <thead>\n",
              "    <tr style=\"text-align: right;\">\n",
              "      <th></th>\n",
              "      <th>0</th>\n",
              "    </tr>\n",
              "  </thead>\n",
              "  <tbody>\n",
              "    <tr>\n",
              "      <th>0</th>\n",
              "      <td>1.0</td>\n",
              "    </tr>\n",
              "    <tr>\n",
              "      <th>2</th>\n",
              "      <td>2.0</td>\n",
              "    </tr>\n",
              "  </tbody>\n",
              "</table>\n",
              "</div><br><label><b>dtype:</b> float64</label>"
            ]
          },
          "metadata": {},
          "execution_count": 31
        }
      ]
    },
    {
      "cell_type": "markdown",
      "source": [
        "**Series Alignment**\n",
        "\n",
        "when performing operations on two series objects pandas aligns them based on their index labels"
      ],
      "metadata": {
        "id": "poJAp7l1VOnE"
      }
    },
    {
      "cell_type": "code",
      "source": [
        "series1=pd.Series([1,2,3,4],index=['a','b','c','d'])\n",
        "series2=pd.Series([5,6,7,8],index=['b','c','d','e'])\n",
        "print(series1+series2)"
      ],
      "metadata": {
        "colab": {
          "base_uri": "https://localhost:8080/"
        },
        "id": "kKMreYwvV7e2",
        "outputId": "fa6087e5-4b9c-4834-f92c-be242f907e0e"
      },
      "execution_count": 35,
      "outputs": [
        {
          "output_type": "stream",
          "name": "stdout",
          "text": [
            "a     NaN\n",
            "b     7.0\n",
            "c     9.0\n",
            "d    11.0\n",
            "e     NaN\n",
            "dtype: float64\n"
          ]
        }
      ]
    },
    {
      "cell_type": "markdown",
      "source": [
        "**Conversion To Other Data Structure**\n",
        "*   tolist(): Converts series to list\n",
        "*   to_dict(): Converts series to dictionary\n",
        "\n"
      ],
      "metadata": {
        "id": "Uhy-YM98XLrn"
      }
    },
    {
      "cell_type": "code",
      "source": [
        "list_series.tolist()"
      ],
      "metadata": {
        "colab": {
          "base_uri": "https://localhost:8080/"
        },
        "id": "ljh2PTtoX_CC",
        "outputId": "76bfe83b-234d-4316-8671-bc15a5aa148f"
      },
      "execution_count": 39,
      "outputs": [
        {
          "output_type": "execute_result",
          "data": {
            "text/plain": [
              "[1, 2, 3, 4, 5]"
            ]
          },
          "metadata": {},
          "execution_count": 39
        }
      ]
    },
    {
      "cell_type": "markdown",
      "source": [
        "Finally, a Pandas Series is a one-dimensional labeled array that can hold data of any type (integers, floats, strings, etc.). It is essentially like a column in a spreadsheet or a database. Each element in a Series has an associated label known as an index which makes it easier to access and manipulate data.\n",
        "\n",
        "### Role of Series in Data Science:\n",
        "\n",
        "1. **Data Handling**: Series are fundamental building blocks in data manipulation and analysis. They allow for efficient storage and access to data, whether it's a list of numbers, a set of strings, or a mix of different types.\n",
        "\n",
        "2. **Data Cleaning**: Series provide powerful tools for handling missing data, filtering, and transforming values. This is crucial in data science, where cleaning and preprocessing data.\n",
        "\n",
        "3. **Descriptive Statistics**: Series make it easy to perform statistical operations like mean, median, sum, and standard deviation. These operations are key in understanding the distribution and characteristics of data.\n",
        "\n",
        "4. **Vectorized Operations**: Series support vectorized operations, meaning you can apply a function to all elements at once. This is much faster than using loops and is essential for handling large datasets efficiently.\n",
        "\n",
        "In summary, Pandas Series play a crucial role in data science by providing a flexible and efficient way to store, access, and manipulate data. They form the backbone of many data science workflows, enabling everything from basic data cleaning to complex statistical analysis and modeling."
      ],
      "metadata": {
        "id": "j8TjbjPPYpnq"
      }
    }
  ]
}
