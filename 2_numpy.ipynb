{
  "nbformat": 4,
  "nbformat_minor": 0,
  "metadata": {
    "colab": {
      "provenance": []
    },
    "kernelspec": {
      "name": "python3",
      "display_name": "Python 3"
    },
    "language_info": {
      "name": "python"
    }
  },
  "cells": [
    {
      "cell_type": "markdown",
      "source": [
        "#NUMPY\n",
        "\n",
        "Numpy(numerical python) is a powerful library in python for numerical and matrix computations.it supports multidimensional arrays and matrics by enabling to perform different mathematical functions on it....\n",
        "\n",
        "before going to use, we need to install the Numpy library we can use pip(pip install package), like pip install numpy.\n"
      ],
      "metadata": {
        "id": "rfsgVJnvE6bC"
      }
    },
    {
      "cell_type": "code",
      "execution_count": null,
      "metadata": {
        "colab": {
          "base_uri": "https://localhost:8080/"
        },
        "id": "9yqYvJymE513",
        "outputId": "69708d24-abee-4b8f-8dff-47c6472a2f02"
      },
      "outputs": [
        {
          "output_type": "stream",
          "name": "stdout",
          "text": [
            "Requirement already satisfied: numpy in /usr/local/lib/python3.10/dist-packages (1.26.4)\n"
          ]
        }
      ],
      "source": [
        "pip install numpy"
      ]
    },
    {
      "cell_type": "markdown",
      "source": [
        "After completing the installation of numpy library, we need to import the library by using import statement. ex: import numpy along with we will perform some basic operations like creation, arithmetic operations, and element wise operations etc..\n",
        "\n",
        "**Array creation**\n",
        "\n"
      ],
      "metadata": {
        "id": "9_jvOmd5HzLL"
      }
    },
    {
      "cell_type": "code",
      "source": [
        "import numpy as np"
      ],
      "metadata": {
        "id": "QtNRFTuzIzmI"
      },
      "execution_count": null,
      "outputs": []
    },
    {
      "cell_type": "code",
      "source": [
        "arr=np.array([1,2,3,4,5])\n",
        "print(arr)"
      ],
      "metadata": {
        "colab": {
          "base_uri": "https://localhost:8080/"
        },
        "id": "u08DDt_HLb57",
        "outputId": "5839ee5a-a808-4c54-fec8-0afaa815c7b1"
      },
      "execution_count": null,
      "outputs": [
        {
          "output_type": "stream",
          "name": "stdout",
          "text": [
            "[1 2 3 4 5]\n"
          ]
        }
      ]
    },
    {
      "cell_type": "markdown",
      "source": [
        "Arrays in Numpy are crated using np.array()"
      ],
      "metadata": {
        "id": "wwDndcK3LpiD"
      }
    },
    {
      "cell_type": "markdown",
      "source": [
        "**Array types**\n",
        "\n",
        "*   1D Array:one dimensional array\n",
        "*   2D Array:two dimensional array or matrix\n",
        "*   nD Array:multi dimensional arrays"
      ],
      "metadata": {
        "id": "tNZ2NvvnOy68"
      }
    },
    {
      "cell_type": "code",
      "source": [
        "oneD_array=np.array([1,2,3,4,5])\n",
        "print('1 dimensional array',oneD_array)\n",
        "twoD_array=np.array([[1,2,3,4,5],[5,6,7,8,9]])\n",
        "print('2 dimensional array')\n",
        "print(twoD_array)"
      ],
      "metadata": {
        "colab": {
          "base_uri": "https://localhost:8080/"
        },
        "id": "4Lx25EhYOw1a",
        "outputId": "3fe6ce6a-94c2-4e7a-f63c-702d2383e97f"
      },
      "execution_count": null,
      "outputs": [
        {
          "output_type": "stream",
          "name": "stdout",
          "text": [
            "1 dimensional array [1 2 3 4 5]\n",
            "2 dimensional array\n",
            "[[1 2 3 4 5]\n",
            " [5 6 7 8 9]]\n"
          ]
        }
      ]
    },
    {
      "cell_type": "markdown",
      "source": [
        "**Array Attributes**\n",
        "\n",
        "\n",
        "*   arr.shape: Returns rows X columns of array\n",
        "*   arr.dtype: Returns datatype of array\n",
        "*   arr.size: Returns size of array by no of elements\n",
        "*   arr.ndim: Returns n dimensions of an array\n"
      ],
      "metadata": {
        "id": "GkQtjDbES-DM"
      }
    },
    {
      "cell_type": "code",
      "source": [
        "print('shape of an array:',twoD_array.shape)\n",
        "print('data type of an array:',twoD_array.dtype)\n",
        "print('size of an array:',twoD_array.size)\n",
        "print('dimension of an array:',twoD_array.ndim)"
      ],
      "metadata": {
        "colab": {
          "base_uri": "https://localhost:8080/"
        },
        "id": "Alsxm4ZhTc2z",
        "outputId": "9a4980df-71cc-4101-f0a8-18db25bdac4c"
      },
      "execution_count": null,
      "outputs": [
        {
          "output_type": "stream",
          "name": "stdout",
          "text": [
            "shape of an array: (2, 5)\n",
            "data type of an array: int64\n",
            "size of an array: 10\n",
            "dimension of an array: 2\n"
          ]
        }
      ]
    },
    {
      "cell_type": "markdown",
      "source": [
        "**Array Initialization**\n",
        "\n",
        "*   zeros and ones: Initializes zeros and ones\n",
        "*   empty array: Creates an empty array with uninitialized values\n",
        "*   arange and linspace: Intializes values between range"
      ],
      "metadata": {
        "id": "D9zSXPzXWX_u"
      }
    },
    {
      "cell_type": "code",
      "source": [
        "zeros=np.zeros((2,3))\n",
        "print(zeros)# initialize values with zeros\n",
        "ones=np.ones((3,3))\n",
        "print('array of ones')\n",
        "print(ones,end='\\n')# initialize values wiyth ones\n",
        "arange=np.arange(1,10,2)\n",
        "print('array between 1 to 10')\n",
        "print(arange)\n",
        "linspace=np.linspace(0,1,5)\n",
        "print('initialization of an array by equal width between 0 to 1')\n",
        "print(linspace)"
      ],
      "metadata": {
        "colab": {
          "base_uri": "https://localhost:8080/"
        },
        "id": "78hrURzncc3I",
        "outputId": "936da8c2-8a3b-4ddd-f9a3-2f01778c332d"
      },
      "execution_count": null,
      "outputs": [
        {
          "output_type": "stream",
          "name": "stdout",
          "text": [
            "[[0. 0. 0.]\n",
            " [0. 0. 0.]]\n",
            "array of ones\n",
            "[[1. 1. 1.]\n",
            " [1. 1. 1.]\n",
            " [1. 1. 1.]]\n",
            "array between 1 to 10\n",
            "[1 3 5 7 9]\n",
            "initialization of an array by equal width between 0 to 1\n",
            "[0.   0.25 0.5  0.75 1.  ]\n"
          ]
        }
      ]
    },
    {
      "cell_type": "markdown",
      "source": [
        "The difference between range() and arange():\n",
        "\n",
        "*range()*: range is a built-in Python function used to generate a sequence of numbers. It is often used in loops.\n",
        "\n",
        "*Parameters*:\n",
        "\n",
        "*   start: The starting value of the sequence (inclusive).\n",
        "*   stop: The end value of the sequence (exclusive).\n",
        "*   step: The difference between each pair of consecutive values (default is 1)\n",
        "\n",
        " Data Type: range returns a range object, which is an immutable sequence of integers.\n",
        "\n",
        "*arange()*: arange is a NumPy function used to generate arrays with evenly spaced values. It is more flexible than range.\n",
        "\n",
        "same parameters for arange also\n",
        "\n",
        "Data Type: arange returns a NumPy array, which can hold integers, floats, or other data types.\n"
      ],
      "metadata": {
        "id": "8uqgyd3ZfEJd"
      }
    },
    {
      "cell_type": "markdown",
      "source": [
        "**Indexing and slicing**\n"
      ],
      "metadata": {
        "id": "qjSi5a5zi8E0"
      }
    },
    {
      "cell_type": "code",
      "source": [
        "print('original array',arr)\n",
        "print(arr[0]) #first element\n",
        "print(arr[-1]) #last element\n",
        "print(arr[0:3]) #slicing from index 0 to 3"
      ],
      "metadata": {
        "colab": {
          "base_uri": "https://localhost:8080/"
        },
        "id": "z_NZcaJJirr5",
        "outputId": "1899e9af-01aa-45fb-cebf-750a18e15e05"
      },
      "execution_count": null,
      "outputs": [
        {
          "output_type": "stream",
          "name": "stdout",
          "text": [
            "original array [1 2 3 4 5]\n",
            "1\n",
            "5\n",
            "[1 2 3]\n"
          ]
        }
      ]
    },
    {
      "cell_type": "markdown",
      "source": [
        "*boolean indexing*"
      ],
      "metadata": {
        "id": "gaDXS54OkE68"
      }
    },
    {
      "cell_type": "code",
      "source": [
        "arr[arr>3]"
      ],
      "metadata": {
        "colab": {
          "base_uri": "https://localhost:8080/"
        },
        "id": "rcNiWLzVkOcM",
        "outputId": "0647a0a9-637c-44af-cd85-c4ef8de8c77e"
      },
      "execution_count": null,
      "outputs": [
        {
          "output_type": "execute_result",
          "data": {
            "text/plain": [
              "array([4, 5])"
            ]
          },
          "metadata": {},
          "execution_count": 32
        }
      ]
    },
    {
      "cell_type": "markdown",
      "source": [
        "**Array operations**\n",
        "\n",
        "*Element wise operations*: Nuumpy support vectorized computations, doesn't need any loops to perform element wise operations.\n",
        "\n",
        "*Matrix operations*: It is achieved by numpy.dot() to perform multiplication on two matrices..\n",
        "\n",
        "*Aggregation functions*: Built in functions which are performed on entire arrays\n"
      ],
      "metadata": {
        "id": "aEFPSkl0khxM"
      }
    },
    {
      "cell_type": "code",
      "source": [
        "#Element wise operations\n",
        "print(arr)\n",
        "print(arr+1) #adds 1 to every element in an array with out need of loops\n",
        "print(arr*2) #mul 2 to every element in an array"
      ],
      "metadata": {
        "colab": {
          "base_uri": "https://localhost:8080/"
        },
        "id": "ZX80qI4FooF_",
        "outputId": "176039af-5015-4bbb-983c-0da3bf885dc0"
      },
      "execution_count": null,
      "outputs": [
        {
          "output_type": "stream",
          "name": "stdout",
          "text": [
            "[1 2 3 4 5]\n",
            "[2 3 4 5 6]\n",
            "[ 2  4  6  8 10]\n"
          ]
        }
      ]
    },
    {
      "cell_type": "markdown",
      "source": [
        "*Matrix operation*"
      ],
      "metadata": {
        "id": "cny-eWCjpsMD"
      }
    },
    {
      "cell_type": "code",
      "source": [
        "arr1=np.array([[1,2],[2,3]]) # 2X2 array\n",
        "arr2=np.array([[3,4],[4,5]]) #2X2 array\n",
        "print(np.dot(arr1,arr2)) # multiplicaton of two matrix"
      ],
      "metadata": {
        "colab": {
          "base_uri": "https://localhost:8080/"
        },
        "id": "uEa65sj_qxAv",
        "outputId": "99b451d2-f062-43f3-923a-0be7520e9037"
      },
      "execution_count": null,
      "outputs": [
        {
          "output_type": "stream",
          "name": "stdout",
          "text": [
            "[[11 14]\n",
            " [18 23]]\n"
          ]
        }
      ]
    },
    {
      "cell_type": "markdown",
      "source": [
        "*Aggregation functions*"
      ],
      "metadata": {
        "id": "xih4uZ3Urjwn"
      }
    },
    {
      "cell_type": "code",
      "source": [
        "print('original array',arr)\n",
        "print('sum of array',np.sum(arr))\n",
        "print('mean of array',np.mean(arr))\n",
        "print('standard deviation',np.std(arr))\n",
        "print('maximum value of an array',np.max(arr))\n",
        "print('minimum value of an array',np.min(arr))"
      ],
      "metadata": {
        "colab": {
          "base_uri": "https://localhost:8080/"
        },
        "id": "_V-SFJoQrp48",
        "outputId": "f6d26a10-a3ba-45ad-baf9-74ca07212b0f"
      },
      "execution_count": null,
      "outputs": [
        {
          "output_type": "stream",
          "name": "stdout",
          "text": [
            "original array [1 2 3 4 5]\n",
            "sum of array 15\n",
            "mean of array 3.0\n",
            "standard deviation 1.4142135623730951\n",
            "maximum value of an array 5\n",
            "minimum value of an array 1\n"
          ]
        }
      ]
    },
    {
      "cell_type": "markdown",
      "source": [
        "**Advanced operations**\n",
        "\n",
        "*Broadcasting*: Broadcasting allows Numpy to perform operations on different shapes of arrays\n",
        "\n",
        "*Reshaping*: Reshape() will change the shape of array as we specified but product of shape of an array and size of an array should be equal..\n",
        "\n",
        "*concatenation*: combine arrays into single array\n",
        "\n",
        "*splitting*: split array into n parts, where n is a number we are specified..\n",
        "\n",
        "*Transpose*: convert rows into columns or vice versa"
      ],
      "metadata": {
        "id": "xMMOMc04ubdD"
      }
    },
    {
      "cell_type": "code",
      "source": [
        "#Broadcasting\n",
        "a=np.array([[1],[2],[3]]) #3X1\n",
        "b=np.array([10,20,30,40]) #1X4\n",
        "a+b #3X4"
      ],
      "metadata": {
        "colab": {
          "base_uri": "https://localhost:8080/"
        },
        "id": "-XEoH-6Xx0FG",
        "outputId": "31aeb391-efd4-41fc-ca92-f3c08a3817a3"
      },
      "execution_count": null,
      "outputs": [
        {
          "output_type": "execute_result",
          "data": {
            "text/plain": [
              "array([[11, 21, 31, 41],\n",
              "       [12, 22, 32, 42],\n",
              "       [13, 23, 33, 43]])"
            ]
          },
          "metadata": {},
          "execution_count": 47
        }
      ]
    },
    {
      "cell_type": "markdown",
      "source": [
        "*Explanation*\n",
        "\n",
        "Rules of Broadcasting:\n",
        "\n",
        "Broadcasting follows specific rules to determine whether two arrays are compute for broadcasting or not.\n",
        "\n",
        "Rule 1: Matching Dimensions: If two arrays differ in their number of dimensions, the shape of the smaller array is padded with ones on its left side (beginning) until both arrays have the same number of dimensions.\n",
        "\n",
        "Rule 2: Compatibility: After adjusting dimensions, two dimensions are compatible\n",
        "\n",
        "if\n",
        "They are equal, or\n",
        "One of them is 1.\n",
        "\n",
        "a (broadcast):[[1 1 1 1],[2 2 2 2],[3 3 3 3]]\n",
        "\n",
        "b (broadcast):[[10 20 30 40],[10 20 30 40],[10 20 30 40]]\n",
        "\n",
        "result: a+b=[[11 21 31 41],[12 22 32 42],[13 23 33 43]]"
      ],
      "metadata": {
        "id": "klzlbDiY0I8c"
      }
    },
    {
      "cell_type": "code",
      "source": [
        "# Reshappe\n",
        "a=np.array([1,2,3,4])\n",
        "print(a)\n",
        "print(a.reshape((2,2)))"
      ],
      "metadata": {
        "colab": {
          "base_uri": "https://localhost:8080/"
        },
        "id": "mdFkTvRw1_ES",
        "outputId": "f54c10b5-18fc-43bd-a865-7ed11f80b91d"
      },
      "execution_count": null,
      "outputs": [
        {
          "output_type": "stream",
          "name": "stdout",
          "text": [
            "[1 2 3 4]\n",
            "[[1 2]\n",
            " [3 4]]\n"
          ]
        }
      ]
    },
    {
      "cell_type": "markdown",
      "source": [
        "*note*: The size of a array and product of shape should be equal"
      ],
      "metadata": {
        "id": "vk8Whs183IC5"
      }
    },
    {
      "cell_type": "code",
      "source": [
        "#cocatenation\n",
        "a=np.array([[10,20,30],[40,50,60]])\n",
        "b=np.array([[1,2,3],[4,5,6]])\n",
        "np.concatenate((a,b))"
      ],
      "metadata": {
        "colab": {
          "base_uri": "https://localhost:8080/"
        },
        "id": "STDu8FkN3b71",
        "outputId": "76b61b81-332b-42d6-94b3-770a37096016"
      },
      "execution_count": null,
      "outputs": [
        {
          "output_type": "execute_result",
          "data": {
            "text/plain": [
              "array([[10, 20, 30],\n",
              "       [40, 50, 60],\n",
              "       [ 1,  2,  3],\n",
              "       [ 4,  5,  6]])"
            ]
          },
          "metadata": {},
          "execution_count": 52
        }
      ]
    },
    {
      "cell_type": "code",
      "source": [
        "#splitting\n",
        "print(a) # previous arrray\n",
        "np.split(a,2)"
      ],
      "metadata": {
        "colab": {
          "base_uri": "https://localhost:8080/"
        },
        "id": "PTkdRK4T4IGm",
        "outputId": "08600c4f-1dd7-42f3-d318-22268cc575f9"
      },
      "execution_count": null,
      "outputs": [
        {
          "output_type": "stream",
          "name": "stdout",
          "text": [
            "[[10 20 30]\n",
            " [40 50 60]]\n"
          ]
        },
        {
          "output_type": "execute_result",
          "data": {
            "text/plain": [
              "[array([[10, 20, 30]]), array([[40, 50, 60]])]"
            ]
          },
          "metadata": {},
          "execution_count": 54
        }
      ]
    },
    {
      "cell_type": "code",
      "source": [
        "#Transpose matrix\n",
        "a=np.array([[1,2,3],[4,5,6]])\n",
        "print(a)\n",
        "print('transpose')\n",
        "print(a.T)"
      ],
      "metadata": {
        "colab": {
          "base_uri": "https://localhost:8080/"
        },
        "id": "SobfsTBf4eN7",
        "outputId": "d7bcf912-2528-49d0-c4ec-a86414611d34"
      },
      "execution_count": null,
      "outputs": [
        {
          "output_type": "stream",
          "name": "stdout",
          "text": [
            "[[1 2 3]\n",
            " [4 5 6]]\n",
            "transpose\n",
            "[[1 4]\n",
            " [2 5]\n",
            " [3 6]]\n"
          ]
        }
      ]
    },
    {
      "cell_type": "markdown",
      "source": [
        "*Random module*: It generates random numbers in between range based on size\n"
      ],
      "metadata": {
        "id": "ZFCIA_89EaKN"
      }
    },
    {
      "cell_type": "code",
      "source": [
        "print(np.random.rand(3,3)) # returns\n",
        "print(np.random.randint(1,10,size=(3,3)))"
      ],
      "metadata": {
        "colab": {
          "base_uri": "https://localhost:8080/"
        },
        "id": "GwAxtxK3EZau",
        "outputId": "6fea56a1-8063-4a1e-dfff-27a7df1131ea"
      },
      "execution_count": null,
      "outputs": [
        {
          "output_type": "stream",
          "name": "stdout",
          "text": [
            "[[0.30317613 0.72416591 0.73618802]\n",
            " [0.41255077 0.1515707  0.34925445]\n",
            " [0.48712516 0.0665783  0.86293134]]\n",
            "[[6 7 5]\n",
            " [3 6 4]\n",
            " [5 3 3]]\n"
          ]
        }
      ]
    },
    {
      "cell_type": "markdown",
      "source": [
        "np.random.rand(): Returns the random numbers between 0-1.\n",
        "\n",
        "np.random.randint():Returns the random numbers in between the range which were given in paranthesis.."
      ],
      "metadata": {
        "id": "rBGsa6yFHHZx"
      }
    },
    {
      "cell_type": "markdown",
      "source": [
        "**Performance Optimization with NumPy**\n",
        "\n",
        "*Implementation*: The core functionalities of NUMPY is implemented in c language.\n",
        "\n",
        "*Avoiding loops*: Use vectorized computations instead of loops for fast processing..\n",
        "\n",
        "*contiguous memory*: Arrays stored in contiguous memory blocks can be processed faster."
      ],
      "metadata": {
        "id": "EBmy07LEVf3g"
      }
    },
    {
      "cell_type": "markdown",
      "source": [
        "**NUMPY for data analysis**\n",
        "\n",
        "Overall NumPy is a fundamental package for data analysis in Python. It provides support for large, multi-dimensional arrays and matrices, along with a vast collection of mathematical functions to operate on these arrays. NumPy is essential for numerical computing and serves as the foundation for many other data science libraries like Pandas, SciPy, and Scikit-learn."
      ],
      "metadata": {
        "id": "gUpgywKwQqw7"
      }
    }
  ]
}
